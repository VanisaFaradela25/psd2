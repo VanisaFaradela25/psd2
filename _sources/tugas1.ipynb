{
 "cells": [
  {
   "cell_type": "markdown",
   "metadata": {},
   "source": [
    "# BUSINESS UNDERSTANDING"
   ]
  },
  {
   "cell_type": "markdown",
   "metadata": {},
   "source": [
    "Metodologi yang paling terkenal dan paling sering digunakan dalam Data science dengan tujuan mengolah, mengelola, menganalisis, dan memahami data adalah Cross Industry Standard Process for Data Mining (CRISP-DM). CRISP-DM sendiri memiliki 6 tahapan penting, yang tahapan pertama nya akan dibahas di bawah ini."
   ]
  },
  {
   "cell_type": "markdown",
   "metadata": {},
   "source": [
    "## 1. Pengertian Memahami Bisnis (Business Understanding)\n",
    "\n",
    "Tahapan business understanding ini adalah tahapan yag bertujuan untuk memahami kebutuhan pelanggan secara mendalam. Kegiatan yang dilakukan pada tahap ini adalah menentukan tujuan bisnis, menilai situasi ketersediaan sumber daya, menentukan tujuan pengumpulan data, dan menghasilkan rencana proyek.\n",
    "\n",
    "## 2. Komponen Penting Dalam Business Understanding\n",
    "\n",
    "  #### a. Identifikasi Masalah Bisnis\n",
    "\n",
    "  bagian ini mengharuskan kita untuk dapat benar-benar memahami apa yang sedang menjadi tantangan utamanya. Misalnya, penjualan yang terus menurun, tingkat pelanggan yang berhenti menggunakan layanan (churn) semakin tinggi, atau biaya operasional yang membengkak. Identifikasi ini menjadi dasar arah analisis data nantinya.\n",
    "\n",
    "  Pada konteks data iris, masalah bisnis yang ingin diselesaikan adalah kebutuhan untuk mengklasifikasikan jenis bungan iris secara otomatis berdasarkan karakteristik nya, yaitu panjang dan lebar kelopak bunga (sepal) dan panjang dan lebar mahkota bunga (petal). Karena, apabila klasifikasi ini dilakukan manual akan memerlukan waktu yang lama. Unttuk klasifikasi di dataset iris ini kan ada 3, yaitu:\n",
    "  1. Iris Verscolor \n",
    "  2. Iris Virginica \n",
    "  3. Iris Setosa \n",
    "\n",
    "  Dari ketiga jenis ini, Iris Versicolor dan Iris Virginica memiliki tingkat kemiripan yang cukup besar, sehingga diperlukan prediksi yang lebih konsisten.\n",
    "\n",
    "  #### b. Tujuan Bisnis\n",
    "\n",
    "  Tujuan dalam berbisnis haruslah jelas dan terukur, karena menjadi target akhir yang ingin dicapai organisasi. sehingga tujuan dari pemanfaatan data iris ini adalah sebagai berikut : \n",
    "    - mengembangkan model klasifikasi otomatis yang dapat digunakan untuk mengenali jenis bunga iris \n",
    "\n",
    "  #### c. Formulasi Tujuan Data\n",
    "\n",
    "  tujuan bisnis tadi diterjemahkan ke dalam bentuk masalah data yang bisa dianalisis. Jika tujuan bisnisnya adalah mengurangi churn pelanggan, maka tujuan datanya bisa berupa membangun model prediksi pelanggan yang berpotensi berhenti menggunakan layanan. Sehingga tujuan data nya adalah sebagai berikut: \n",
    "    - menganalisis hubungan antara 4 fitur numerik dengan label spesies atau class \n",
    "    - membangun moder machine learning untuk memprediksi spesies atau class berdasarkan nilai 4 fitur \n",
    "    - mengevaluasi model menggunakan metrik akurasi, presisi, recall, atau F1-Score. \n",
    "\n",
    "  #### d. Menetapkan Kriteria Keberhasilan\n",
    "\n",
    "  Kriteria ini berfungsi untuk menilai apakah solusi berbasis data benar-benar efektif. Misalnya, keberhasilan bisa diukur dari akurasi model prediksi yang minimal 85%, atau dari kenyataan bahwa strategi promosi yang dijalankan berdasarkan model tersebut benar-benar mampu meningkatkan penjualan sesuai target. Keberhasilannya dapat diukur dari prediksi yang diakukan dalam waktu yang cepat, sehingga dapat diterapkan di aplikasi lapangan atau sistem otomatis.\n",
    "\n",
    "  #### e. Analisis Situasi\n",
    "\n",
    "  Analisis ini penting untuk memahami kondisi perusahaan secara keseluruhan, termasuk sumber daya yang tersedia, peluang yang bisa dimanfaatkan, hingga risiko yang mungkin dihadapi. Dengan begitu, solusi yang dibangun dari data benar-benar realistis dan sesuai kemampuan perusahaan.\n",
    "\n",
    "  Dataset IRIS.csv ini terdiri dari :\n",
    "    - 150 data, yang masing-masing jenis terdiri dari 50 data. \n",
    "    - terdapat 3 spesies atau class \n",
    "    - memiliki 4 kolom numerik, yaitu sepal_length, sepal_width, petal_length, dan petal_width \n",
    "    - memiliki 1 kolom kategorikal, yaitu species atau class \n",
    "    - tidak terdapat missing value \n",
    "\n",
    "## 3. Manfaat Business Understanding\n",
    "\n",
    "a. Membantu organisasi fokus ke masalah yang tepat.\n",
    "\n",
    "b. Menghemat waktu dan biaya karena analisis data lebih terarah.\n",
    "\n",
    "c. Meminimalkan kesalahpahaman antara tim bisnis dan tim teknis.\n",
    "\n",
    "d. Menjadi dasar kuat untuk tahap berikutnya (Data Understanding, Data Preparation, Modeling, Evaluation, Deployment).\n",
    "\n",
    "## 4. Contoh Kasus Business Understanding\n",
    "\n",
    "- kasus : Sebuah toko online mengalami penurunan jumlah pelanggan yang melakukan pembelian ulang.\n",
    "\n",
    "- maslaah bisnis : pelanggan yang tidak loyal\n",
    "\n",
    "- tujuan bisnis : Meningkatkan tingkat repeat order 20% dalam 3 bulan.\n",
    "\n",
    "- tujuan data : Membuat model prediksi pelanggan mana yang berpotensi berhenti belanja.\n",
    "\n",
    "- kriteria keberhasilan : Model dengan akurasi ≥ 80% + strategi promosi yang terbukti menaikkan tingkat pembelian ulang."
   ]
  },
  {
   "cell_type": "markdown",
   "metadata": {},
   "source": [
    "## REFERENSI \n",
    "\n",
    "1. https://dqlab.id/business-understanding-dalam-portfolio-data-scientist\n",
    "\n",
    "2. https://klc2.kemenkeu.go.id/kms/knowledge/business-understanding-tahapan-pertama-proyek-data-analytics-e7f004d7/detail/\n",
    "\n",
    "3. https://www.dicoding.com/blog/crisp-dm-tahapan-studi-kasus-kelebihan-dan-kekurangan/\n"
   ]
  }
 ],
 "metadata": {
  "kernelspec": {
   "display_name": "Python 3",
   "language": "python",
   "name": "python3"
  },
  "language_info": {
   "codemirror_mode": {
    "name": "ipython",
    "version": 3
   },
   "file_extension": ".py",
   "mimetype": "text/x-python",
   "name": "python",
   "nbconvert_exporter": "python",
   "pygments_lexer": "ipython3",
   "version": "3.8.0"
  },
  "widgets": {
   "application/vnd.jupyter.widget-state+json": {
    "state": {},
    "version_major": 2,
    "version_minor": 0
   }
  }
 },
 "nbformat": 4,
 "nbformat_minor": 4
}
