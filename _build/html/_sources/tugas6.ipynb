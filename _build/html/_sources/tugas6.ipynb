{
 "cells": [
  {
   "cell_type": "code",
   "execution_count": null,
   "metadata": {},
   "outputs": [],
   "source": [
    "# PENYEIMBANGAN DATA MENGGUNAKAN SMOTE DAN ADASYN"
   ]
  },
  {
   "cell_type": "markdown",
   "metadata": {},
   "source": [
    " ### Menginstall Library"
   ]
  },
  {
   "cell_type": "markdown",
   "metadata": {},
   "source": [
    "### "
   ]
  },
  {
   "cell_type": "code",
   "execution_count": null,
   "metadata": {},
   "outputs": [
    {
     "ename": "ModuleNotFoundError",
     "evalue": "No module named 'mysql'",
     "output_type": "error",
     "traceback": [
      "\u001b[31m---------------------------------------------------------------------------\u001b[39m",
      "\u001b[31mModuleNotFoundError\u001b[39m                       Traceback (most recent call last)",
      "\u001b[36mCell\u001b[39m\u001b[36m \u001b[39m\u001b[32mIn[1]\u001b[39m\u001b[32m, line 10\u001b[39m\n\u001b[32m      7\u001b[39m host = \u001b[33m\"\u001b[39m\u001b[33mlocalhost\u001b[39m\u001b[33m\"\u001b[39m\n\u001b[32m      8\u001b[39m db_name = \u001b[33m\"\u001b[39m\u001b[33miris_db\u001b[39m\u001b[33m\"\u001b[39m\n\u001b[32m---> \u001b[39m\u001b[32m10\u001b[39m engine = \u001b[43mcreate_engine\u001b[49m\u001b[43m(\u001b[49m\u001b[33;43mf\u001b[39;49m\u001b[33;43m\"\u001b[39;49m\u001b[33;43mmysql+mysqlconnector://\u001b[39;49m\u001b[38;5;132;43;01m{\u001b[39;49;00m\u001b[43muser\u001b[49m\u001b[38;5;132;43;01m}\u001b[39;49;00m\u001b[33;43m:\u001b[39;49m\u001b[38;5;132;43;01m{\u001b[39;49;00m\u001b[43mpassword\u001b[49m\u001b[38;5;132;43;01m}\u001b[39;49;00m\u001b[33;43m@\u001b[39;49m\u001b[38;5;132;43;01m{\u001b[39;49;00m\u001b[43mhost\u001b[49m\u001b[38;5;132;43;01m}\u001b[39;49;00m\u001b[33;43m/\u001b[39;49m\u001b[38;5;132;43;01m{\u001b[39;49;00m\u001b[43mdb_name\u001b[49m\u001b[38;5;132;43;01m}\u001b[39;49;00m\u001b[33;43m\"\u001b[39;49m\u001b[43m)\u001b[49m\n\u001b[32m     13\u001b[39m df = pd.read_sql(\u001b[33m\"\u001b[39m\u001b[33mSELECT * FROM ecoli\u001b[39m\u001b[33m\"\u001b[39m, engine)\n\u001b[32m     14\u001b[39m \u001b[38;5;28mprint\u001b[39m(\u001b[33m\"\u001b[39m\u001b[33m=== 5 Baris Pertama Data ===\u001b[39m\u001b[33m\"\u001b[39m)\n",
      "\u001b[36mFile \u001b[39m\u001b[32m<string>:2\u001b[39m, in \u001b[36mcreate_engine\u001b[39m\u001b[34m(url, **kwargs)\u001b[39m\n",
      "\u001b[36mFile \u001b[39m\u001b[32mc:\\Users\\DELL\\AppData\\Local\\Programs\\Python\\Python311\\Lib\\site-packages\\sqlalchemy\\util\\deprecations.py:281\u001b[39m, in \u001b[36mdeprecated_params.<locals>.decorate.<locals>.warned\u001b[39m\u001b[34m(fn, *args, **kwargs)\u001b[39m\n\u001b[32m    274\u001b[39m     \u001b[38;5;28;01mif\u001b[39;00m m \u001b[38;5;129;01min\u001b[39;00m kwargs:\n\u001b[32m    275\u001b[39m         _warn_with_version(\n\u001b[32m    276\u001b[39m             messages[m],\n\u001b[32m    277\u001b[39m             versions[m],\n\u001b[32m    278\u001b[39m             version_warnings[m],\n\u001b[32m    279\u001b[39m             stacklevel=\u001b[32m3\u001b[39m,\n\u001b[32m    280\u001b[39m         )\n\u001b[32m--> \u001b[39m\u001b[32m281\u001b[39m \u001b[38;5;28;01mreturn\u001b[39;00m \u001b[43mfn\u001b[49m\u001b[43m(\u001b[49m\u001b[43m*\u001b[49m\u001b[43margs\u001b[49m\u001b[43m,\u001b[49m\u001b[43m \u001b[49m\u001b[43m*\u001b[49m\u001b[43m*\u001b[49m\u001b[43mkwargs\u001b[49m\u001b[43m)\u001b[49m\n",
      "\u001b[36mFile \u001b[39m\u001b[32mc:\\Users\\DELL\\AppData\\Local\\Programs\\Python\\Python311\\Lib\\site-packages\\sqlalchemy\\engine\\create.py:617\u001b[39m, in \u001b[36mcreate_engine\u001b[39m\u001b[34m(url, **kwargs)\u001b[39m\n\u001b[32m    615\u001b[39m         \u001b[38;5;28;01mif\u001b[39;00m k \u001b[38;5;129;01min\u001b[39;00m kwargs:\n\u001b[32m    616\u001b[39m             dbapi_args[k] = pop_kwarg(k)\n\u001b[32m--> \u001b[39m\u001b[32m617\u001b[39m     dbapi = \u001b[43mdbapi_meth\u001b[49m\u001b[43m(\u001b[49m\u001b[43m*\u001b[49m\u001b[43m*\u001b[49m\u001b[43mdbapi_args\u001b[49m\u001b[43m)\u001b[49m\n\u001b[32m    619\u001b[39m dialect_args[\u001b[33m\"\u001b[39m\u001b[33mdbapi\u001b[39m\u001b[33m\"\u001b[39m] = dbapi\n\u001b[32m    621\u001b[39m dialect_args.setdefault(\u001b[33m\"\u001b[39m\u001b[33mcompiler_linting\u001b[39m\u001b[33m\"\u001b[39m, compiler.NO_LINTING)\n",
      "\u001b[36mFile \u001b[39m\u001b[32mc:\\Users\\DELL\\AppData\\Local\\Programs\\Python\\Python311\\Lib\\site-packages\\sqlalchemy\\dialects\\mysql\\mysqlconnector.py:165\u001b[39m, in \u001b[36mMySQLDialect_mysqlconnector.import_dbapi\u001b[39m\u001b[34m(cls)\u001b[39m\n\u001b[32m    163\u001b[39m \u001b[38;5;129m@classmethod\u001b[39m\n\u001b[32m    164\u001b[39m \u001b[38;5;28;01mdef\u001b[39;00m\u001b[38;5;250m \u001b[39m\u001b[34mimport_dbapi\u001b[39m(\u001b[38;5;28mcls\u001b[39m) -> DBAPIModule:\n\u001b[32m--> \u001b[39m\u001b[32m165\u001b[39m     \u001b[38;5;28;01mreturn\u001b[39;00m cast(\u001b[33m\"\u001b[39m\u001b[33mDBAPIModule\u001b[39m\u001b[33m\"\u001b[39m, \u001b[38;5;28;43m__import__\u001b[39;49m\u001b[43m(\u001b[49m\u001b[33;43m\"\u001b[39;49m\u001b[33;43mmysql.connector\u001b[39;49m\u001b[33;43m\"\u001b[39;49m\u001b[43m)\u001b[49m.connector)\n",
      "\u001b[31mModuleNotFoundError\u001b[39m: No module named 'mysql'"
     ]
    }
   ],
   "source": [
    "pip install imbalanced-learn"
   ]
  },
  {
   "cell_type": "code",
   "execution_count": null,
   "metadata": {},
   "outputs": [],
   "source": [
    "import pandas as pd\n",
    "\n",
    "df = pd.read_csv(\"ecoli_original.csv\")\n",
    "\n",
    "print(\"Info dataset:\")\n",
    "print(df.info())\n",
    "print(\"\\nCek nilai kosong:\")\n",
    "print(df.isnull().sum())\n",
    "\n",
    "X = df.drop(columns=['sequence_name','class'])\n",
    "y = df['class']\n",
    "\n",
    "X.to_csv(\"ecoli_features.csv\", index=False)\n",
    "y.to_csv(\"ecoli_labels.csv\", index=False)\n",
    "print(\"\\nData numerik & label sudah dipisah.\")\n"
   ]
  },
  {
   "cell_type": "code",
   "execution_count": null,
   "metadata": {},
   "outputs": [],
   "source": [
    "import pandas as pd\n",
    "\n",
    "df = pd.read_csv(\"ecoli_original.csv\")\n",
    "\n",
    "print(\"Info dataset:\")\n",
    "print(df.info())\n",
    "print(\"\\nCek nilai kosong:\")\n",
    "print(df.isnull().sum())\n",
    "\n",
    "X = df.drop(columns=['sequence_name','class'])\n",
    "y = df['class']\n",
    "\n",
    "X.to_csv(\"ecoli_features.csv\", index=False)\n",
    "y.to_csv(\"ecoli_labels.csv\", index=False)\n",
    "print(\"\\nData numerik & label sudah dipisah.\")"
   ]
  },
  {
   "cell_type": "code",
   "execution_count": null,
   "metadata": {},
   "outputs": [],
   "source": [
    "import pandas as pd\n",
    "from sklearn.decomposition import PCA\n",
    "import matplotlib.pyplot as plt\n",
    "\n",
    "X = pd.read_csv(\"ecoli_features.csv\")\n",
    "y = pd.read_csv(\"ecoli_labels.csv\").squeeze() \n",
    "\n",
    "pca = PCA(n_components=2)\n",
    "X_pca = pca.fit_transform(X)\n",
    "\n",
    "plt.figure(figsize=(8,6))\n",
    "scatter = plt.scatter(X_pca[:,0], X_pca[:,1],\n",
    "                       c=pd.factorize(y)[0],\n",
    "                       cmap='tab10', alpha=0.8)\n",
    "plt.xlabel(\"PC1\")\n",
    "plt.ylabel(\"PC2\")\n",
    "plt.title(\"Ecoli Data - PCA Original\")\n",
    "plt.legend(scatter.legend_elements()[0], pd.factorize(y)[1], bbox_to_anchor=(1.05,1))\n",
    "plt.tight_layout()\n",
    "plt.show()\n"
   ]
  },
  {
   "cell_type": "code",
   "execution_count": null,
   "metadata": {},
   "outputs": [],
   "source": [
    "import pandas as pd\n",
    "from imblearn.over_sampling import ADASYN\n",
    "\n",
    "X = pd.read_csv(\"ecoli_features.csv\")\n",
    "y = pd.read_csv(\"ecoli_labels.csv\").squeeze()\n",
    "\n",
    "adasyn = ADASYN(random_state=42)\n",
    "X_res, y_res = adasyn.fit_resample(X, y)\n",
    "\n",
    "print(\"Distribusi Kelas Sebelum:\")\n",
    "print(y.value_counts())\n",
    "print(\"\\nDistribusi Kelas Sesudah ADASYN:\")\n",
    "print(pd.Series(y_res).value_counts())\n",
    "\n",
    "X_res.to_csv(\"ecoli_features_balanced.csv\", index=False)\n",
    "pd.Series(y_res).to_csv(\"ecoli_labels_balanced.csv\", index=False)\n",
    "print(\"\\nData hasil ADASYN disimpan.\")\n"
   ]
  },
  {
   "cell_type": "code",
   "execution_count": null,
   "metadata": {},
   "outputs": [],
   "source": [
    "import pandas as pd\n",
    "from sklearn.decomposition import PCA\n",
    "import matplotlib.pyplot as plt\n",
    "\n",
    "X_res = pd.read_csv(\"ecoli_features_balanced.csv\")\n",
    "y_res = pd.read_csv(\"ecoli_labels_balanced.csv\").squeeze()\n",
    "\n",
    "pca = PCA(n_components=2)\n",
    "X_res_pca = pca.fit_transform(X_res)\n",
    "\n",
    "plt.figure(figsize=(8,6))\n",
    "scatter = plt.scatter(X_res_pca[:,0], X_res_pca[:,1],\n",
    "                       c=pd.factorize(y_res)[0],\n",
    "                       cmap='tab10', alpha=0.8)\n",
    "plt.xlabel(\"PC1\")\n",
    "plt.ylabel(\"PC2\")\n",
    "plt.title(\"Ecoli Data - PCA After ADASYN\")\n",
    "plt.legend(scatter.legend_elements()[0], pd.factorize(y_res)[1], bbox_to_anchor=(1.05,1))\n",
    "plt.tight_layout()\n",
    "plt.show()\n"
   ]
  },
  {
   "cell_type": "code",
   "execution_count": null,
   "metadata": {},
   "outputs": [],
   "source": []
  }
 ],
 "metadata": {
  "kernelspec": {
   "display_name": "Python 3",
   "language": "python",
   "name": "python3"
  },
  "language_info": {
   "codemirror_mode": {
    "name": "ipython",
    "version": 3
   },
   "file_extension": ".py",
   "mimetype": "text/x-python",
   "name": "python",
   "nbconvert_exporter": "python",
   "pygments_lexer": "ipython3",
   "version": "3.11.5"
  },
  "orig_nbformat": 4
 },
 "nbformat": 4,
 "nbformat_minor": 2
}
