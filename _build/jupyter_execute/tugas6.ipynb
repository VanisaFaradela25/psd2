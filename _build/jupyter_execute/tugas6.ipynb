{
 "cells": [
  {
   "cell_type": "code",
   "execution_count": 1,
   "metadata": {},
   "outputs": [],
   "source": [
    "# PENYEIMBANGAN DATA MENGGUNAKAN SMOTE DAN ADASYN"
   ]
  },
  {
   "cell_type": "markdown",
   "metadata": {},
   "source": [
    " ### Menginstall Library"
   ]
  },
  {
   "cell_type": "markdown",
   "metadata": {},
   "source": [
    "### "
   ]
  },
  {
   "cell_type": "code",
   "execution_count": 2,
   "metadata": {},
   "outputs": [
    {
     "name": "stdout",
     "output_type": "stream",
     "text": [
      "^C\n"
     ]
    },
    {
     "name": "stdout",
     "output_type": "stream",
     "text": [
      "Collecting imbalanced-learn\n",
      "  Using cached imbalanced_learn-0.12.4-py3-none-any.whl (258 kB)\n",
      "Collecting threadpoolctl>=2.0.0\n",
      "  Downloading threadpoolctl-3.6.0-py3-none-any.whl (18 kB)\n",
      "Collecting joblib>=1.1.1\n",
      "  Downloading joblib-1.5.2-py3-none-any.whl (308 kB)\n",
      "     -------------------------------------- 308.4/308.4 KB 2.4 MB/s eta 0:00:00\n",
      "Collecting scikit-learn>=1.0.2\n",
      "  Using cached scikit_learn-1.6.1-cp39-cp39-win_amd64.whl (11.2 MB)\n",
      "Collecting scipy>=1.5.0\n",
      "  Downloading scipy-1.13.1-cp39-cp39-win_amd64.whl (46.2 MB)\n",
      "     ---------------------------------------- 46.2/46.2 MB 4.4 MB/s eta 0:00:00\n",
      "Collecting numpy>=1.17.3\n",
      "  Downloading numpy-2.0.2-cp39-cp39-win_amd64.whl (15.9 MB)\n",
      "     ---------------------------------------- 15.9/15.9 MB 3.4 MB/s eta 0:00:00\n",
      "Installing collected packages: threadpoolctl, numpy, joblib, scipy, scikit-learn, imbalanced-learn\n"
     ]
    },
    {
     "name": "stdout",
     "output_type": "stream",
     "text": [
      "Note: you may need to restart the kernel to use updated packages.\n"
     ]
    }
   ],
   "source": [
    "pip install imbalanced-learn"
   ]
  },
  {
   "cell_type": "code",
   "execution_count": null,
   "metadata": {},
   "outputs": [],
   "source": [
    "import pandas as pd\n",
    "\n",
    "df = pd.read_csv(\"ecoli_original.csv\")\n",
    "\n",
    "print(\"Info dataset:\")\n",
    "print(df.info())\n",
    "print(\"\\nCek nilai kosong:\")\n",
    "print(df.isnull().sum())\n",
    "\n",
    "X = df.drop(columns=['sequence_name','class'])\n",
    "y = df['class']\n",
    "\n",
    "X.to_csv(\"ecoli_features.csv\", index=False)\n",
    "y.to_csv(\"ecoli_labels.csv\", index=False)\n",
    "print(\"\\nData numerik & label sudah dipisah.\")\n"
   ]
  },
  {
   "cell_type": "code",
   "execution_count": null,
   "metadata": {},
   "outputs": [],
   "source": [
    "import pandas as pd\n",
    "\n",
    "df = pd.read_csv(\"ecoli_original.csv\")\n",
    "\n",
    "print(\"Info dataset:\")\n",
    "print(df.info())\n",
    "print(\"\\nCek nilai kosong:\")\n",
    "print(df.isnull().sum())\n",
    "\n",
    "X = df.drop(columns=['sequence_name','class'])\n",
    "y = df['class']\n",
    "\n",
    "X.to_csv(\"ecoli_features.csv\", index=False)\n",
    "y.to_csv(\"ecoli_labels.csv\", index=False)\n",
    "print(\"\\nData numerik & label sudah dipisah.\")"
   ]
  },
  {
   "cell_type": "code",
   "execution_count": null,
   "metadata": {},
   "outputs": [],
   "source": [
    "import pandas as pd\n",
    "from sklearn.decomposition import PCA\n",
    "import matplotlib.pyplot as plt\n",
    "\n",
    "X = pd.read_csv(\"ecoli_features.csv\")\n",
    "y = pd.read_csv(\"ecoli_labels.csv\").squeeze() \n",
    "\n",
    "pca = PCA(n_components=2)\n",
    "X_pca = pca.fit_transform(X)\n",
    "\n",
    "plt.figure(figsize=(8,6))\n",
    "scatter = plt.scatter(X_pca[:,0], X_pca[:,1],\n",
    "                       c=pd.factorize(y)[0],\n",
    "                       cmap='tab10', alpha=0.8)\n",
    "plt.xlabel(\"PC1\")\n",
    "plt.ylabel(\"PC2\")\n",
    "plt.title(\"Ecoli Data - PCA Original\")\n",
    "plt.legend(scatter.legend_elements()[0], pd.factorize(y)[1], bbox_to_anchor=(1.05,1))\n",
    "plt.tight_layout()\n",
    "plt.show()\n"
   ]
  },
  {
   "cell_type": "code",
   "execution_count": null,
   "metadata": {},
   "outputs": [],
   "source": [
    "import pandas as pd\n",
    "from imblearn.over_sampling import ADASYN\n",
    "\n",
    "X = pd.read_csv(\"ecoli_features.csv\")\n",
    "y = pd.read_csv(\"ecoli_labels.csv\").squeeze()\n",
    "\n",
    "adasyn = ADASYN(random_state=42)\n",
    "X_res, y_res = adasyn.fit_resample(X, y)\n",
    "\n",
    "print(\"Distribusi Kelas Sebelum:\")\n",
    "print(y.value_counts())\n",
    "print(\"\\nDistribusi Kelas Sesudah ADASYN:\")\n",
    "print(pd.Series(y_res).value_counts())\n",
    "\n",
    "X_res.to_csv(\"ecoli_features_balanced.csv\", index=False)\n",
    "pd.Series(y_res).to_csv(\"ecoli_labels_balanced.csv\", index=False)\n",
    "print(\"\\nData hasil ADASYN disimpan.\")\n"
   ]
  },
  {
   "cell_type": "code",
   "execution_count": null,
   "metadata": {},
   "outputs": [],
   "source": [
    "import pandas as pd\n",
    "from sklearn.decomposition import PCA\n",
    "import matplotlib.pyplot as plt\n",
    "\n",
    "X_res = pd.read_csv(\"ecoli_features_balanced.csv\")\n",
    "y_res = pd.read_csv(\"ecoli_labels_balanced.csv\").squeeze()\n",
    "\n",
    "pca = PCA(n_components=2)\n",
    "X_res_pca = pca.fit_transform(X_res)\n",
    "\n",
    "plt.figure(figsize=(8,6))\n",
    "scatter = plt.scatter(X_res_pca[:,0], X_res_pca[:,1],\n",
    "                       c=pd.factorize(y_res)[0],\n",
    "                       cmap='tab10', alpha=0.8)\n",
    "plt.xlabel(\"PC1\")\n",
    "plt.ylabel(\"PC2\")\n",
    "plt.title(\"Ecoli Data - PCA After ADASYN\")\n",
    "plt.legend(scatter.legend_elements()[0], pd.factorize(y_res)[1], bbox_to_anchor=(1.05,1))\n",
    "plt.tight_layout()\n",
    "plt.show()\n"
   ]
  },
  {
   "cell_type": "code",
   "execution_count": null,
   "metadata": {},
   "outputs": [],
   "source": []
  }
 ],
 "metadata": {
  "kernelspec": {
   "display_name": "Python 3",
   "language": "python",
   "name": "python3"
  },
  "language_info": {
   "codemirror_mode": {
    "name": "ipython",
    "version": 3
   },
   "file_extension": ".py",
   "mimetype": "text/x-python",
   "name": "python",
   "nbconvert_exporter": "python",
   "pygments_lexer": "ipython3",
   "version": "3.9.13"
  }
 },
 "nbformat": 4,
 "nbformat_minor": 2
}